{
 "cells": [
  {
   "cell_type": "markdown",
   "metadata": {},
   "source": [
    "# Hyper Spectral Images"
   ]
  },
  {
   "cell_type": "markdown",
   "metadata": {},
   "source": [
    "- There are many images with many more channels other than RGB. These images are known as Hyper spectral images.\n",
    "- Red, Green and Blue have respective wavelength ranges. R, G, B sensors capture the corresponding wavelengths and discard other wavelengths.\n",
    "- There are sensors that can detect other ranges as well, such as Infrared and UV.\n",
    "- So an image can have R, G, B, IR, UV channels and many more depending on the number of bins of wavelength and the sensors detecting each bin. \n",
    "- Images with more than three channels are called **multispectral images**. **Hyperspectral images**, on the other hand, are images with many channels, typically spanning hundreds of spectral bands/bins. Each band represents a specific narrow range of the electromagnetic spectrum, allowing for detailed analysis of the image's content.\n",
    "![Hyper Spectral Space ](../images/other/hyper-spectral-images.png)"
   ]
  }
 ],
 "metadata": {
  "language_info": {
   "name": "python"
  }
 },
 "nbformat": 4,
 "nbformat_minor": 2
}
