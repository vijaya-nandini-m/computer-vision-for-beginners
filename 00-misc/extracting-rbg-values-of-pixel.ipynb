{
 "cells": [
  {
   "cell_type": "markdown",
   "metadata": {},
   "source": [
    "# Extracting RGB values of 3D Array"
   ]
  },
  {
   "cell_type": "markdown",
   "metadata": {},
   "source": [
    "RGB images are represented in 3D NumPy arrays where each element of the array represents a pixel in the image. The dimensions of the 3D array are height, width, and color channels (Red, Green and Blue).\n",
    "\n",
    "In a typical RGB image, there are 3 color channels for every pixel - the red channel, green channel, and blue channel. Each channel value can range from 0 to 255, represented by an 8-bit number. The combination of these three channels makes up the pixel's color.\n",
    "\n",
    "To extract the RGB values of a single pixel in a 3D NumPy array representing an RGB image, you can use indexing. For example, take the following array representing a 2x2 RGB image:"
   ]
  },
  {
   "cell_type": "code",
   "execution_count": 1,
   "metadata": {},
   "outputs": [],
   "source": [
    "import numpy as np"
   ]
  },
  {
   "cell_type": "code",
   "execution_count": 2,
   "metadata": {},
   "outputs": [],
   "source": [
    "rgb_arr = np.array([[[255, 0, 0], [0, 255, 0]],\n",
    "                    [[0, 0, 255], [255, 255, 0]]])"
   ]
  },
  {
   "cell_type": "code",
   "execution_count": 3,
   "metadata": {},
   "outputs": [
    {
     "data": {
      "text/plain": [
       "array([[[255,   0,   0],\n",
       "        [  0, 255,   0]],\n",
       "\n",
       "       [[  0,   0, 255],\n",
       "        [255, 255,   0]]])"
      ]
     },
     "execution_count": 3,
     "metadata": {},
     "output_type": "execute_result"
    }
   ],
   "source": [
    "rgb_arr"
   ]
  },
  {
   "cell_type": "markdown",
   "metadata": {},
   "source": [
    "To extract the RGB values of the pixel at position (0, 1) in the array, you can use indexing as follows:"
   ]
  },
  {
   "cell_type": "code",
   "execution_count": 4,
   "metadata": {},
   "outputs": [
    {
     "name": "stdout",
     "output_type": "stream",
     "text": [
      "0 255 0\n"
     ]
    }
   ],
   "source": [
    "r_value = rgb_arr[0, 1, 0]\n",
    "g_value = rgb_arr[0, 1, 1]\n",
    "b_value = rgb_arr[0, 1, 2]\n",
    "print(r_value, g_value, b_value)"
   ]
  },
  {
   "cell_type": "markdown",
   "metadata": {},
   "source": [
    "To extract the RGB values of the pixel at position (1, 1) in the array, you can use indexing as follows:"
   ]
  },
  {
   "cell_type": "code",
   "execution_count": 5,
   "metadata": {},
   "outputs": [
    {
     "name": "stdout",
     "output_type": "stream",
     "text": [
      "255 255 0\n"
     ]
    }
   ],
   "source": [
    "r = rgb_arr[1,1,0]\n",
    "g = rgb_arr[1,1,1]\n",
    "b = rgb_arr[1,1,2]\n",
    "print(r,g,b)"
   ]
  },
  {
   "cell_type": "code",
   "execution_count": 7,
   "metadata": {},
   "outputs": [
    {
     "data": {
      "text/plain": [
       "array([255, 255,   0])"
      ]
     },
     "execution_count": 7,
     "metadata": {},
     "output_type": "execute_result"
    }
   ],
   "source": [
    "# Values at position (1,1)\n",
    "rgb_arr[1,1,:]"
   ]
  },
  {
   "cell_type": "code",
   "execution_count": 8,
   "metadata": {},
   "outputs": [
    {
     "data": {
      "text/plain": [
       "array([  0, 255,   0])"
      ]
     },
     "execution_count": 8,
     "metadata": {},
     "output_type": "execute_result"
    }
   ],
   "source": [
    "# Values at position (0,1)\n",
    "rgb_arr[0,1,:]"
   ]
  },
  {
   "cell_type": "markdown",
   "metadata": {},
   "source": [
    "### Applying functions to 3d arrays"
   ]
  },
  {
   "cell_type": "code",
   "execution_count": 9,
   "metadata": {},
   "outputs": [],
   "source": [
    "image = np.array([\n",
    "    [[255, 0, 0], [0, 255, 0], [0, 0, 255]],\n",
    "    [[255, 255, 255], [0, 0, 0], [128, 128, 128]]\n",
    "])"
   ]
  },
  {
   "cell_type": "code",
   "execution_count": 14,
   "metadata": {},
   "outputs": [
    {
     "data": {
      "text/plain": [
       "array([[[255,   0,   0],\n",
       "        [  0, 255,   0],\n",
       "        [  0,   0, 255]],\n",
       "\n",
       "       [[255, 255, 255],\n",
       "        [  0,   0,   0],\n",
       "        [128, 128, 128]]])"
      ]
     },
     "execution_count": 14,
     "metadata": {},
     "output_type": "execute_result"
    }
   ],
   "source": [
    "image"
   ]
  },
  {
   "cell_type": "code",
   "execution_count": 20,
   "metadata": {},
   "outputs": [
    {
     "data": {
      "text/plain": [
       "(2, 3, 3)"
      ]
     },
     "execution_count": 20,
     "metadata": {},
     "output_type": "execute_result"
    }
   ],
   "source": [
    "image.shape"
   ]
  },
  {
   "cell_type": "code",
   "execution_count": 24,
   "metadata": {},
   "outputs": [
    {
     "data": {
      "text/plain": [
       "array([255,   0,   0])"
      ]
     },
     "execution_count": 24,
     "metadata": {},
     "output_type": "execute_result"
    }
   ],
   "source": [
    "image[0,0,:]\n",
    "# or\n",
    "# r = image[0,0,0]\n",
    "# g = image[0,0,1]\n",
    "# b = image[0,0,2]"
   ]
  },
  {
   "cell_type": "code",
   "execution_count": 25,
   "metadata": {},
   "outputs": [
    {
     "data": {
      "text/plain": [
       "array([  0, 255,   0])"
      ]
     },
     "execution_count": 25,
     "metadata": {},
     "output_type": "execute_result"
    }
   ],
   "source": [
    "image[0,1,:]"
   ]
  },
  {
   "cell_type": "code",
   "execution_count": 38,
   "metadata": {},
   "outputs": [],
   "source": [
    "def threshold(rgb):\n",
    "    print(rgb)\n",
    "    r, g, b = rgb\n",
    "    return 0 if r < 128 and g < 128 and b < 128 else 1"
   ]
  },
  {
   "cell_type": "code",
   "execution_count": 39,
   "metadata": {},
   "outputs": [
    {
     "name": "stdout",
     "output_type": "stream",
     "text": [
      "[255   0   0]\n",
      "[  0 255   0]\n",
      "[  0   0 255]\n",
      "[255 255 255]\n",
      "[0 0 0]\n",
      "[128 128 128]\n"
     ]
    }
   ],
   "source": [
    "binary_image = np.apply_along_axis(threshold, axis=2, arr=image)"
   ]
  },
  {
   "cell_type": "code",
   "execution_count": 41,
   "metadata": {},
   "outputs": [
    {
     "data": {
      "text/plain": [
       "(2, 3)"
      ]
     },
     "execution_count": 41,
     "metadata": {},
     "output_type": "execute_result"
    }
   ],
   "source": [
    "binary_image.shape"
   ]
  },
  {
   "cell_type": "code",
   "execution_count": 42,
   "metadata": {},
   "outputs": [
    {
     "data": {
      "text/plain": [
       "array([[1, 1, 1],\n",
       "       [1, 0, 1]])"
      ]
     },
     "execution_count": 42,
     "metadata": {},
     "output_type": "execute_result"
    }
   ],
   "source": [
    "binary_image"
   ]
  },
  {
   "cell_type": "code",
   "execution_count": 55,
   "metadata": {},
   "outputs": [],
   "source": [
    "def process_color(rgb):\n",
    "    print(rgb)\n",
    "    r, g, b = (rgb + 100)%256\n",
    "    print(r, g, b)\n",
    "    return r, g, b"
   ]
  },
  {
   "cell_type": "code",
   "execution_count": 56,
   "metadata": {},
   "outputs": [
    {
     "name": "stdout",
     "output_type": "stream",
     "text": [
      "[255   0   0]\n",
      "99 100 100\n",
      "[  0 255   0]\n",
      "100 99 100\n",
      "[  0   0 255]\n",
      "100 100 99\n",
      "[255 255 255]\n",
      "99 99 99\n",
      "[0 0 0]\n",
      "100 100 100\n",
      "[128 128 128]\n",
      "228 228 228\n"
     ]
    }
   ],
   "source": [
    "output_img = np.apply_along_axis(func1d=process_color,axis=2,arr=image)"
   ]
  },
  {
   "cell_type": "code",
   "execution_count": 50,
   "metadata": {},
   "outputs": [
    {
     "data": {
      "text/plain": [
       "array([[[ 99, 100, 100],\n",
       "        [100,  99, 100],\n",
       "        [100, 100,  99]],\n",
       "\n",
       "       [[ 99,  99,  99],\n",
       "        [100, 100, 100],\n",
       "        [228, 228, 228]]])"
      ]
     },
     "execution_count": 50,
     "metadata": {},
     "output_type": "execute_result"
    }
   ],
   "source": [
    "output_img"
   ]
  },
  {
   "cell_type": "code",
   "execution_count": null,
   "metadata": {},
   "outputs": [],
   "source": []
  }
 ],
 "metadata": {
  "kernelspec": {
   "display_name": ".venv",
   "language": "python",
   "name": "python3"
  },
  "language_info": {
   "codemirror_mode": {
    "name": "ipython",
    "version": 3
   },
   "file_extension": ".py",
   "mimetype": "text/x-python",
   "name": "python",
   "nbconvert_exporter": "python",
   "pygments_lexer": "ipython3",
   "version": "3.8.18"
  }
 },
 "nbformat": 4,
 "nbformat_minor": 2
}
